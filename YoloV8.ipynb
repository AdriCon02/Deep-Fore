{
  "cells": [
    {
      "cell_type": "markdown",
      "metadata": {
        "id": "view-in-github",
        "colab_type": "text"
      },
      "source": [
        "<a href=\"https://colab.research.google.com/github/AdriCon02/Deep-Fore/blob/main/YoloV8.ipynb\" target=\"_parent\"><img src=\"https://colab.research.google.com/assets/colab-badge.svg\" alt=\"Open In Colab\"/></a>"
      ]
    },
    {
      "cell_type": "code",
      "execution_count": null,
      "metadata": {
        "id": "Y8cDtxLIBHgQ"
      },
      "outputs": [],
      "source": [
        "!nvidia-smi"
      ]
    },
    {
      "cell_type": "code",
      "execution_count": null,
      "metadata": {
        "id": "CjpPg4mGKc1v"
      },
      "outputs": [],
      "source": [
        "import os\n",
        "# Set YOLOv8 to quiet mode\n",
        "#os.environ['YOLO_VERBOSE'] = 'False'\n",
        "HOME = os.getcwd()\n",
        "print(HOME)"
      ]
    },
    {
      "cell_type": "code",
      "execution_count": null,
      "metadata": {
        "id": "tdSMcABDNKW-"
      },
      "outputs": [],
      "source": [
        "# Pip install method (recommended)\n",
        "\n",
        "# Install and update Ultralytics and Ray Tune packages\n",
        "!pip install -U ultralytics==8.0.196\n",
        "!pip install grpcio==1.59.0 ray==2.8.1\n",
        "\n",
        "# Optionally install W&B for logging\n",
        "!pip install wandb\n",
        "\n",
        "from IPython import display\n",
        "display.clear_output()\n",
        "\n",
        "import ultralytics\n",
        "ultralytics.checks()"
      ]
    },
    {
      "cell_type": "code",
      "execution_count": null,
      "metadata": {
        "id": "VOEYrlBoP9-E"
      },
      "outputs": [],
      "source": [
        "from ultralytics import YOLO\n",
        "%pip uninstall -y albumentations\n",
        "\n",
        "from IPython.display import display, Image\n",
        "\n",
        "import ray\n",
        "from ray import tune\n"
      ]
    },
    {
      "cell_type": "code",
      "execution_count": null,
      "metadata": {
        "id": "BSd93ZJzZZKt"
      },
      "outputs": [],
      "source": [
        "!mkdir {HOME}/datasets\n",
        "%cd {HOME}/datasets\n",
        "\n",
        "!pip install roboflow --quiet\n",
        "\n",
        "#AUGMENTED MULTICLASS-TILING\n",
        "#from roboflow import Roboflow\n",
        "#rf = Roboflow(api_key=\"UYkhq9VF7hUFyzkp3jLN\")\n",
        "#project = rf.workspace(\"yolo-brecahad-nbqyh\").project(\"brecahad-yolov8\")\n",
        "#version = project.version(1)\n",
        "#dataset = version.download(\"yolov8\")\n",
        "\n",
        "#AUGMENTED SINGLECLASS-TILING\n",
        "#from roboflow import Roboflow\n",
        "#rf = Roboflow(api_key=\"UYkhq9VF7hUFyzkp3jLN\")\n",
        "#project = rf.workspace(\"yolo-brecahad-nbqyh\").project(\"brecahad-singleclass\")\n",
        "#version = project.version(1)\n",
        "#dataset = version.download(\"yolov8\")\n",
        "\n",
        "#AUGMENTED SINGLECLASS\n",
        "#from roboflow import Roboflow\n",
        "#rf = Roboflow(api_key=\"UYkhq9VF7hUFyzkp3jLN\")\n",
        "#project = rf.workspace(\"yolo-brecahad-nbqyh\").project(\"brecahad-singleclass\")\n",
        "#version = project.version(3)\n",
        "#dataset = version.download(\"yolov8\")\n",
        "\n",
        "#AUGMENTED MULTICLASS - with histogram normalization\n",
        "# from roboflow import Roboflow\n",
        "# rf = Roboflow(api_key=\"UYkhq9VF7hUFyzkp3jLN\")\n",
        "# project = rf.workspace(\"yolo-brecahad-nbqyh\").project(\"brecahad-yolov8\")\n",
        "# version = project.version(3)\n",
        "# dataset = version.download(\"yolov8\")\n",
        "\n",
        "#AUGMENTED MULTICLASS - tiling and filtering nulls\n",
        "#from roboflow import Roboflow\n",
        "#rf = Roboflow(api_key=\"UYkhq9VF7hUFyzkp3jLN\")\n",
        "#project = rf.workspace(\"yolo-brecahad-nbqyh\").project(\"brecahad-yolov8\")\n",
        "#version = project.version(5)\n",
        "#dataset = version.download(\"yolov8\")\n",
        "\n",
        "#AUGMENTED MULTICLASS - Tiling 4x4\n",
        "# from roboflow import Roboflow\n",
        "# rf = Roboflow(api_key=\"LcZgU4vmjLbLqJ5IY1Sg\")\n",
        "# project = rf.workspace(\"brecahad-4icqs\").project(\"brecahad-yolov8-2lvts\")\n",
        "# version = project.version(3)\n",
        "# dataset = version.download(\"yolov8\")\n",
        "\n",
        "#SEGMENTATION 4 CLASSES\n",
        "\n",
        "# from roboflow import Roboflow\n",
        "# rf = Roboflow(api_key=\"LcZgU4vmjLbLqJ5IY1Sg\")\n",
        "# project = rf.workspace(\"brecahad-4icqs\").project(\"yolo4class-o8snp\")\n",
        "# version = project.version(1)\n",
        "# dataset = version.download(\"yolov8\")\n",
        "\n",
        "#OBJECT DETECTION (TUMOR & MITOSIS)\n",
        "from roboflow import Roboflow\n",
        "rf = Roboflow(api_key=\"UeLjBGp1wL0ROOeH62zO\")\n",
        "project = rf.workspace(\"yolo-brecahad-5ejws\").project(\"yolo4class\")\n",
        "version = project.version(5)\n",
        "dataset = version.download(\"yolov8\")\n",
        "\n",
        "\n",
        "#OBJECT DETECTION (LUMEN & NO LUMEN)\n",
        "# from roboflow import Roboflow\n",
        "# rf = Roboflow(api_key=\"UeLjBGp1wL0ROOeH62zO\")\n",
        "# project = rf.workspace(\"yolo-brecahad-5ejws\").project(\"yolo4class\")\n",
        "# version = project.version(4)\n",
        "# dataset = version.download(\"yolov8\")\n",
        "\n",
        "\n"
      ]
    },
    {
      "cell_type": "markdown",
      "metadata": {
        "id": "YUjFBKKqXa-u"
      },
      "source": [
        "## Custom Training"
      ]
    },
    {
      "cell_type": "code",
      "source": [
        "ray.shutdown()"
      ],
      "metadata": {
        "id": "IDHiOgtSJ1nZ"
      },
      "execution_count": null,
      "outputs": []
    },
    {
      "cell_type": "code",
      "source": [
        "from ultralytics import YOLO\n",
        "from ray import tune\n",
        "\n",
        "# # Load a YOLOv8n model\n",
        "# model = YOLO(\"yolov8n.pt\")\n",
        "\n",
        "# # Run Ray Tune on the model\n",
        "# result_grid = model.tune(\n",
        "#     data=\"/content/datasets/Yolo4Class-4/data.yaml\",\n",
        "#     space={\"lr0\": tune.uniform(1e-5, 1e-3),\n",
        "#           \"lrf\": tune.uniform(0.01, 1.0),\n",
        "#           \"momentum\": tune.uniform(0.6, 0.98),\n",
        "#           \"weight_decay\":tune.uniform(0.0, 0.001),\n",
        "#           \"warmup_epochs\":tune.uniform(0.0, 5.0),\n",
        "#           \"warmup_momentum\":tune.uniform(0.0, 0.95),\n",
        "#           \"box\":tune.uniform(0.02, 10),\n",
        "#           \"cls\":tune.uniform(0.2, 4.0),\n",
        "#           \"hsv_h\":tune.uniform(0.0, 0.0),\n",
        "#           \"hsv_s\":tune.uniform(0.0, 0.0),\n",
        "#           \"hsv_v\":tune.uniform(0.0, 0.0),\n",
        "#           \"degrees\":tune.uniform(0.0, 0.0),\n",
        "#           \"translate\":tune.uniform(0.0, 0.9),\n",
        "#           \"scale\":tune.uniform(0.0, 0.0),\n",
        "#           \"shear\":tune.uniform(0.0, 0.0),\n",
        "#           \"perspective\":tune.uniform(0.0, 0.0),\n",
        "#           \"flipud\":tune.uniform(0.0, 0.0),\n",
        "#           \"fliplr\":tune.uniform(0.0, 0.0),\n",
        "#           \"mosaic\":tune.uniform(0.0, 0.0),\n",
        "#           \"mixup\":tune.uniform(0.0, 0.0),\n",
        "#           \"copy_paste\":tune.uniform(0.0, 0.0)\n",
        "#           },\n",
        "#     epochs=30,\n",
        "#     use_ray=True,\n",
        "#     gpu_per_trial=1  # Specify GPU resources\n",
        "# )\n"
      ],
      "metadata": {
        "id": "6lvwr7C_Jvy_"
      },
      "execution_count": null,
      "outputs": []
    },
    {
      "cell_type": "code",
      "execution_count": null,
      "metadata": {
        "id": "lrG7p1VCfHpl",
        "colab": {
          "base_uri": "https://localhost:8080/",
          "height": 406
        },
        "outputId": "82324007-9b54-43bf-9eb1-e21941f90d7a"
      },
      "outputs": [
        {
          "output_type": "error",
          "ename": "ValueError",
          "evalue": "Invalid export format='lumenandnonlumen'. Valid formats are ('torchscript', 'onnx', 'openvino', 'engine', 'coreml', 'saved_model', 'pb', 'tflite', 'edgetpu', 'tfjs', 'paddle', 'ncnn')",
          "traceback": [
            "\u001b[0;31m---------------------------------------------------------------------------\u001b[0m",
            "\u001b[0;31mValueError\u001b[0m                                Traceback (most recent call last)",
            "\u001b[0;32m<ipython-input-10-b1d76f7fa9bb>\u001b[0m in \u001b[0;36m<cell line: 2>\u001b[0;34m()\u001b[0m\n\u001b[1;32m      1\u001b[0m \u001b[0;31m# model=YOLO('/content/best2.pt')\u001b[0m\u001b[0;34m\u001b[0m\u001b[0;34m\u001b[0m\u001b[0m\n\u001b[0;32m----> 2\u001b[0;31m \u001b[0mmodel\u001b[0m\u001b[0;34m.\u001b[0m\u001b[0mexport\u001b[0m\u001b[0;34m(\u001b[0m\u001b[0mformat\u001b[0m\u001b[0;34m=\u001b[0m\u001b[0;34m\"lumenandnonlumen\"\u001b[0m\u001b[0;34m,\u001b[0m \u001b[0mimgsz\u001b[0m\u001b[0;34m=\u001b[0m\u001b[0;34m[\u001b[0m\u001b[0;36m640\u001b[0m\u001b[0;34m,\u001b[0m\u001b[0;36m640\u001b[0m\u001b[0;34m]\u001b[0m\u001b[0;34m)\u001b[0m\u001b[0;34m\u001b[0m\u001b[0;34m\u001b[0m\u001b[0m\n\u001b[0m",
            "\u001b[0;32m/usr/local/lib/python3.10/dist-packages/ultralytics/engine/model.py\u001b[0m in \u001b[0;36mexport\u001b[0;34m(self, **kwargs)\u001b[0m\n\u001b[1;32m    311\u001b[0m         \u001b[0mcustom\u001b[0m \u001b[0;34m=\u001b[0m \u001b[0;34m{\u001b[0m\u001b[0;34m'imgsz'\u001b[0m\u001b[0;34m:\u001b[0m \u001b[0mself\u001b[0m\u001b[0;34m.\u001b[0m\u001b[0mmodel\u001b[0m\u001b[0;34m.\u001b[0m\u001b[0margs\u001b[0m\u001b[0;34m[\u001b[0m\u001b[0;34m'imgsz'\u001b[0m\u001b[0;34m]\u001b[0m\u001b[0;34m,\u001b[0m \u001b[0;34m'batch'\u001b[0m\u001b[0;34m:\u001b[0m \u001b[0;36m1\u001b[0m\u001b[0;34m,\u001b[0m \u001b[0;34m'data'\u001b[0m\u001b[0;34m:\u001b[0m \u001b[0;32mNone\u001b[0m\u001b[0;34m,\u001b[0m \u001b[0;34m'verbose'\u001b[0m\u001b[0;34m:\u001b[0m \u001b[0;32mFalse\u001b[0m\u001b[0;34m}\u001b[0m  \u001b[0;31m# method defaults\u001b[0m\u001b[0;34m\u001b[0m\u001b[0;34m\u001b[0m\u001b[0m\n\u001b[1;32m    312\u001b[0m         \u001b[0margs\u001b[0m \u001b[0;34m=\u001b[0m \u001b[0;34m{\u001b[0m\u001b[0;34m**\u001b[0m\u001b[0mself\u001b[0m\u001b[0;34m.\u001b[0m\u001b[0moverrides\u001b[0m\u001b[0;34m,\u001b[0m \u001b[0;34m**\u001b[0m\u001b[0mcustom\u001b[0m\u001b[0;34m,\u001b[0m \u001b[0;34m**\u001b[0m\u001b[0mkwargs\u001b[0m\u001b[0;34m,\u001b[0m \u001b[0;34m'mode'\u001b[0m\u001b[0;34m:\u001b[0m \u001b[0;34m'export'\u001b[0m\u001b[0;34m}\u001b[0m  \u001b[0;31m# highest priority args on the right\u001b[0m\u001b[0;34m\u001b[0m\u001b[0;34m\u001b[0m\u001b[0m\n\u001b[0;32m--> 313\u001b[0;31m         \u001b[0;32mreturn\u001b[0m \u001b[0mExporter\u001b[0m\u001b[0;34m(\u001b[0m\u001b[0moverrides\u001b[0m\u001b[0;34m=\u001b[0m\u001b[0margs\u001b[0m\u001b[0;34m,\u001b[0m \u001b[0m_callbacks\u001b[0m\u001b[0;34m=\u001b[0m\u001b[0mself\u001b[0m\u001b[0;34m.\u001b[0m\u001b[0mcallbacks\u001b[0m\u001b[0;34m)\u001b[0m\u001b[0;34m(\u001b[0m\u001b[0mmodel\u001b[0m\u001b[0;34m=\u001b[0m\u001b[0mself\u001b[0m\u001b[0;34m.\u001b[0m\u001b[0mmodel\u001b[0m\u001b[0;34m)\u001b[0m\u001b[0;34m\u001b[0m\u001b[0;34m\u001b[0m\u001b[0m\n\u001b[0m\u001b[1;32m    314\u001b[0m \u001b[0;34m\u001b[0m\u001b[0m\n\u001b[1;32m    315\u001b[0m     \u001b[0;32mdef\u001b[0m \u001b[0mtrain\u001b[0m\u001b[0;34m(\u001b[0m\u001b[0mself\u001b[0m\u001b[0;34m,\u001b[0m \u001b[0mtrainer\u001b[0m\u001b[0;34m=\u001b[0m\u001b[0;32mNone\u001b[0m\u001b[0;34m,\u001b[0m \u001b[0;34m**\u001b[0m\u001b[0mkwargs\u001b[0m\u001b[0;34m)\u001b[0m\u001b[0;34m:\u001b[0m\u001b[0;34m\u001b[0m\u001b[0;34m\u001b[0m\u001b[0m\n",
            "\u001b[0;32m/usr/local/lib/python3.10/dist-packages/torch/utils/_contextlib.py\u001b[0m in \u001b[0;36mdecorate_context\u001b[0;34m(*args, **kwargs)\u001b[0m\n\u001b[1;32m    113\u001b[0m     \u001b[0;32mdef\u001b[0m \u001b[0mdecorate_context\u001b[0m\u001b[0;34m(\u001b[0m\u001b[0;34m*\u001b[0m\u001b[0margs\u001b[0m\u001b[0;34m,\u001b[0m \u001b[0;34m**\u001b[0m\u001b[0mkwargs\u001b[0m\u001b[0;34m)\u001b[0m\u001b[0;34m:\u001b[0m\u001b[0;34m\u001b[0m\u001b[0;34m\u001b[0m\u001b[0m\n\u001b[1;32m    114\u001b[0m         \u001b[0;32mwith\u001b[0m \u001b[0mctx_factory\u001b[0m\u001b[0;34m(\u001b[0m\u001b[0;34m)\u001b[0m\u001b[0;34m:\u001b[0m\u001b[0;34m\u001b[0m\u001b[0;34m\u001b[0m\u001b[0m\n\u001b[0;32m--> 115\u001b[0;31m             \u001b[0;32mreturn\u001b[0m \u001b[0mfunc\u001b[0m\u001b[0;34m(\u001b[0m\u001b[0;34m*\u001b[0m\u001b[0margs\u001b[0m\u001b[0;34m,\u001b[0m \u001b[0;34m**\u001b[0m\u001b[0mkwargs\u001b[0m\u001b[0;34m)\u001b[0m\u001b[0;34m\u001b[0m\u001b[0;34m\u001b[0m\u001b[0m\n\u001b[0m\u001b[1;32m    116\u001b[0m \u001b[0;34m\u001b[0m\u001b[0m\n\u001b[1;32m    117\u001b[0m     \u001b[0;32mreturn\u001b[0m \u001b[0mdecorate_context\u001b[0m\u001b[0;34m\u001b[0m\u001b[0;34m\u001b[0m\u001b[0m\n",
            "\u001b[0;32m/usr/local/lib/python3.10/dist-packages/ultralytics/engine/exporter.py\u001b[0m in \u001b[0;36m__call__\u001b[0;34m(self, model)\u001b[0m\n\u001b[1;32m    163\u001b[0m         \u001b[0mflags\u001b[0m \u001b[0;34m=\u001b[0m \u001b[0;34m[\u001b[0m\u001b[0mx\u001b[0m \u001b[0;34m==\u001b[0m \u001b[0mfmt\u001b[0m \u001b[0;32mfor\u001b[0m \u001b[0mx\u001b[0m \u001b[0;32min\u001b[0m \u001b[0mfmts\u001b[0m\u001b[0;34m]\u001b[0m\u001b[0;34m\u001b[0m\u001b[0;34m\u001b[0m\u001b[0m\n\u001b[1;32m    164\u001b[0m         \u001b[0;32mif\u001b[0m \u001b[0msum\u001b[0m\u001b[0;34m(\u001b[0m\u001b[0mflags\u001b[0m\u001b[0;34m)\u001b[0m \u001b[0;34m!=\u001b[0m \u001b[0;36m1\u001b[0m\u001b[0;34m:\u001b[0m\u001b[0;34m\u001b[0m\u001b[0;34m\u001b[0m\u001b[0m\n\u001b[0;32m--> 165\u001b[0;31m             \u001b[0;32mraise\u001b[0m \u001b[0mValueError\u001b[0m\u001b[0;34m(\u001b[0m\u001b[0;34mf\"Invalid export format='{fmt}'. Valid formats are {fmts}\"\u001b[0m\u001b[0;34m)\u001b[0m\u001b[0;34m\u001b[0m\u001b[0;34m\u001b[0m\u001b[0m\n\u001b[0m\u001b[1;32m    166\u001b[0m         \u001b[0mjit\u001b[0m\u001b[0;34m,\u001b[0m \u001b[0monnx\u001b[0m\u001b[0;34m,\u001b[0m \u001b[0mxml\u001b[0m\u001b[0;34m,\u001b[0m \u001b[0mengine\u001b[0m\u001b[0;34m,\u001b[0m \u001b[0mcoreml\u001b[0m\u001b[0;34m,\u001b[0m \u001b[0msaved_model\u001b[0m\u001b[0;34m,\u001b[0m \u001b[0mpb\u001b[0m\u001b[0;34m,\u001b[0m \u001b[0mtflite\u001b[0m\u001b[0;34m,\u001b[0m \u001b[0medgetpu\u001b[0m\u001b[0;34m,\u001b[0m \u001b[0mtfjs\u001b[0m\u001b[0;34m,\u001b[0m \u001b[0mpaddle\u001b[0m\u001b[0;34m,\u001b[0m \u001b[0mncnn\u001b[0m \u001b[0;34m=\u001b[0m \u001b[0mflags\u001b[0m  \u001b[0;31m# export booleans\u001b[0m\u001b[0;34m\u001b[0m\u001b[0;34m\u001b[0m\u001b[0m\n\u001b[1;32m    167\u001b[0m \u001b[0;34m\u001b[0m\u001b[0m\n",
            "\u001b[0;31mValueError\u001b[0m: Invalid export format='lumenandnonlumen'. Valid formats are ('torchscript', 'onnx', 'openvino', 'engine', 'coreml', 'saved_model', 'pb', 'tflite', 'edgetpu', 'tfjs', 'paddle', 'ncnn')"
          ]
        }
      ],
      "source": [
        "# model=YOLO('/content/best2.pt')\n",
        "model.export(format=\"lumenandnonlumen\", imgsz=[640,640])"
      ]
    },
    {
      "cell_type": "code",
      "execution_count": null,
      "metadata": {
        "id": "w5UZrqYC6BTO",
        "colab": {
          "base_uri": "https://localhost:8080/",
          "height": 34
        },
        "outputId": "6d5c9fee-765d-458c-a6d9-97ca7884befa"
      },
      "outputs": [
        {
          "output_type": "display_data",
          "data": {
            "text/plain": [
              "<IPython.core.display.Javascript object>"
            ],
            "application/javascript": [
              "\n",
              "    async function download(id, filename, size) {\n",
              "      if (!google.colab.kernel.accessAllowed) {\n",
              "        return;\n",
              "      }\n",
              "      const div = document.createElement('div');\n",
              "      const label = document.createElement('label');\n",
              "      label.textContent = `Downloading \"${filename}\": `;\n",
              "      div.appendChild(label);\n",
              "      const progress = document.createElement('progress');\n",
              "      progress.max = size;\n",
              "      div.appendChild(progress);\n",
              "      document.body.appendChild(div);\n",
              "\n",
              "      const buffers = [];\n",
              "      let downloaded = 0;\n",
              "\n",
              "      const channel = await google.colab.kernel.comms.open(id);\n",
              "      // Send a message to notify the kernel that we're ready.\n",
              "      channel.send({})\n",
              "\n",
              "      for await (const message of channel.messages) {\n",
              "        // Send a message to notify the kernel that we're ready.\n",
              "        channel.send({})\n",
              "        if (message.buffers) {\n",
              "          for (const buffer of message.buffers) {\n",
              "            buffers.push(buffer);\n",
              "            downloaded += buffer.byteLength;\n",
              "            progress.value = downloaded;\n",
              "          }\n",
              "        }\n",
              "      }\n",
              "      const blob = new Blob(buffers, {type: 'application/binary'});\n",
              "      const a = document.createElement('a');\n",
              "      a.href = window.URL.createObjectURL(blob);\n",
              "      a.download = filename;\n",
              "      div.appendChild(a);\n",
              "      a.click();\n",
              "      div.remove();\n",
              "    }\n",
              "  "
            ]
          },
          "metadata": {}
        },
        {
          "output_type": "display_data",
          "data": {
            "text/plain": [
              "<IPython.core.display.Javascript object>"
            ],
            "application/javascript": [
              "download(\"download_c918dc9c-99b2-471c-98d1-5c8a689cf43b\", \"runs.zip\", 541293863)"
            ]
          },
          "metadata": {}
        }
      ],
      "source": [
        "import shutil\n",
        "import os\n",
        "\n",
        "# # Ruta de la carpeta que deseas descargar en Google Colab\n",
        "ruta_local = '/content/runs'\n",
        "\n",
        "# # Ruta donde deseas guardar el archivo ZIP en Google Colab\n",
        "archivo_zip = '/content/runs.zip'\n",
        "\n",
        "# # Crear un archivo ZIP de la carpeta\n",
        "shutil.make_archive('/content/runs', 'zip', ruta_local)\n",
        "\n",
        "# # Descargar el archivo ZIP\n",
        "from google.colab import files\n",
        "files.download(archivo_zip)\n"
      ]
    },
    {
      "cell_type": "code",
      "execution_count": null,
      "metadata": {
        "id": "ZSvt7Pk1zap0",
        "colab": {
          "base_uri": "https://localhost:8080/",
          "height": 106
        },
        "outputId": "b765686d-4bfa-4666-8a59-76b3913fcf0d"
      },
      "outputs": [
        {
          "output_type": "error",
          "ename": "SyntaxError",
          "evalue": "invalid syntax (<ipython-input-10-fbcff7f9b717>, line 1)",
          "traceback": [
            "\u001b[0;36m  File \u001b[0;32m\"<ipython-input-10-fbcff7f9b717>\"\u001b[0;36m, line \u001b[0;32m1\u001b[0m\n\u001b[0;31m    yolo val model='/content/best_tm_mc.pt' data='/content/datasets/Yolo4Class-5/data.yaml' imgsz=640 batch=16 conf=0.5 iou=0.5\u001b[0m\n\u001b[0m         ^\u001b[0m\n\u001b[0;31mSyntaxError\u001b[0m\u001b[0;31m:\u001b[0m invalid syntax\n"
          ]
        }
      ],
      "source": [
        "yolo val model='/content/best_tm_mc.pt' data='/content/datasets/Yolo4Class-5/data.yaml' imgsz=640 batch=16 conf=0.5 iou=0.5"
      ]
    }
  ],
  "metadata": {
    "accelerator": "GPU",
    "colab": {
      "gpuType": "T4",
      "machine_shape": "hm",
      "provenance": [],
      "include_colab_link": true
    },
    "kernelspec": {
      "display_name": "Python 3",
      "name": "python3"
    },
    "language_info": {
      "name": "python"
    }
  },
  "nbformat": 4,
  "nbformat_minor": 0
}
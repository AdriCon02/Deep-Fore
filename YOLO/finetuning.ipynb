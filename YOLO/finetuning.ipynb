{
  "cells": [
    {
      "cell_type": "markdown",
      "metadata": {
        "id": "view-in-github",
        "colab_type": "text"
      },
      "source": [
        "<a href=\"https://colab.research.google.com/github/AdriCon02/Deep-Fore/blob/main/YOLO/finetuning.ipynb\" target=\"_parent\"><img src=\"https://colab.research.google.com/assets/colab-badge.svg\" alt=\"Open In Colab\"/></a>"
      ]
    },
    {
      "cell_type": "markdown",
      "source": [
        "# GPU Check"
      ],
      "metadata": {
        "id": "Gr9yW91m4dKe"
      }
    },
    {
      "cell_type": "code",
      "execution_count": null,
      "metadata": {
        "id": "Y8cDtxLIBHgQ"
      },
      "outputs": [],
      "source": [
        "!nvidia-smi"
      ]
    },
    {
      "cell_type": "markdown",
      "source": [
        "# General settings"
      ],
      "metadata": {
        "id": "pCbpJyi04hKk"
      }
    },
    {
      "cell_type": "code",
      "execution_count": null,
      "metadata": {
        "id": "CjpPg4mGKc1v"
      },
      "outputs": [],
      "source": [
        "import os\n",
        "# Set YOLOv8 to quiet mode\n",
        "#os.environ['YOLO_VERBOSE'] = 'False'\n",
        "HOME = os.getcwd()\n",
        "print(HOME)"
      ]
    },
    {
      "cell_type": "markdown",
      "source": [
        "# Install dependencies"
      ],
      "metadata": {
        "id": "Ib8yhf224l95"
      }
    },
    {
      "cell_type": "code",
      "execution_count": null,
      "metadata": {
        "id": "tdSMcABDNKW-"
      },
      "outputs": [],
      "source": [
        "# Pip install method (recommended)\n",
        "\n",
        "# Install and update Ultralytics and Ray Tune packages\n",
        "!pip install -U ultralytics==8.0.196\n",
        "!pip install grpcio==1.59.0 ray==2.8.1\n",
        "\n",
        "# Optionally install W&B for logging\n",
        "!pip install wandb\n",
        "\n",
        "from IPython import display\n",
        "display.clear_output()\n",
        "\n",
        "import ultralytics\n",
        "ultralytics.checks()"
      ]
    },
    {
      "cell_type": "code",
      "execution_count": null,
      "metadata": {
        "id": "VOEYrlBoP9-E"
      },
      "outputs": [],
      "source": [
        "from ultralytics import YOLO\n",
        "%pip uninstall -y albumentations\n",
        "\n",
        "from IPython.display import display, Image\n",
        "\n",
        "import ray\n",
        "from ray import tune\n"
      ]
    },
    {
      "cell_type": "markdown",
      "source": [
        "# Import refined Dataset with SAM"
      ],
      "metadata": {
        "id": "sx0aSqe94qdN"
      }
    },
    {
      "cell_type": "code",
      "execution_count": null,
      "metadata": {
        "id": "BSd93ZJzZZKt"
      },
      "outputs": [],
      "source": [
        "!mkdir {HOME}/datasets\n",
        "%cd {HOME}/datasets\n",
        "\n",
        "!pip install roboflow --quiet\n",
        "\n",
        "\n",
        "#OBJECT DETECTION (TUMOR & MITOSIS)\n",
        "from roboflow import Roboflow\n",
        "rf = Roboflow(api_key=\"UeLjBGp1wL0ROOeH62zO\")\n",
        "project = rf.workspace(\"yolo-brecahad-5ejws\").project(\"yolo4class\")\n",
        "version = project.version(5)\n",
        "dataset = version.download(\"yolov8\")\n",
        "\n",
        "\n",
        "#OBJECT DETECTION (LUMEN & NO LUMEN)\n",
        "# from roboflow import Roboflow\n",
        "# rf = Roboflow(api_key=\"UeLjBGp1wL0ROOeH62zO\")\n",
        "# project = rf.workspace(\"yolo-brecahad-5ejws\").project(\"yolo4class\")\n",
        "# version = project.version(4)\n",
        "# dataset = version.download(\"yolov8\")\n",
        "\n",
        "\n"
      ]
    },
    {
      "cell_type": "markdown",
      "metadata": {
        "id": "YUjFBKKqXa-u"
      },
      "source": [
        "# Fine Tuning w/ Grid Search"
      ]
    },
    {
      "cell_type": "code",
      "source": [
        "ray.shutdown()"
      ],
      "metadata": {
        "id": "IDHiOgtSJ1nZ"
      },
      "execution_count": null,
      "outputs": []
    },
    {
      "cell_type": "code",
      "source": [
        "from ultralytics import YOLO\n",
        "from ray import tune\n",
        "\n",
        "# Load a YOLOv8n model\n",
        "model = YOLO(\"yolov8n.pt\")\n",
        "\n",
        "# # Run Ray Tune on the model\n",
        "result_grid = model.tune(\n",
        "    data=\"/content/datasets/Yolo4Class-4/data.yaml\",\n",
        "    space={\"lr0\": tune.uniform(1e-5, 1e-3),\n",
        "          \"lrf\": tune.uniform(0.01, 1.0),\n",
        "          \"momentum\": tune.uniform(0.6, 0.98),\n",
        "          \"weight_decay\":tune.uniform(0.0, 0.001),\n",
        "          \"warmup_epochs\":tune.uniform(0.0, 5.0),\n",
        "          \"warmup_momentum\":tune.uniform(0.0, 0.95),\n",
        "          \"box\":tune.uniform(0.02, 10),\n",
        "          \"cls\":tune.uniform(0.2, 4.0),\n",
        "          \"hsv_h\":tune.uniform(0.0, 0.0),\n",
        "          \"hsv_s\":tune.uniform(0.0, 0.0),\n",
        "          \"hsv_v\":tune.uniform(0.0, 0.0),\n",
        "          \"degrees\":tune.uniform(0.0, 0.0),\n",
        "          \"translate\":tune.uniform(0.0, 0.9),\n",
        "          \"scale\":tune.uniform(0.0, 0.0),\n",
        "          \"shear\":tune.uniform(0.0, 0.0),\n",
        "          \"perspective\":tune.uniform(0.0, 0.0),\n",
        "          \"flipud\":tune.uniform(0.0, 0.0),\n",
        "          \"fliplr\":tune.uniform(0.0, 0.0),\n",
        "          \"mosaic\":tune.uniform(0.0, 0.0),\n",
        "          \"mixup\":tune.uniform(0.0, 0.0),\n",
        "          \"copy_paste\":tune.uniform(0.0, 0.0)\n",
        "          },\n",
        "    epochs=30,\n",
        "    use_ray=True,\n",
        "    gpu_per_trial=1  # Specify GPU resources\n",
        " )\n"
      ],
      "metadata": {
        "id": "6lvwr7C_Jvy_"
      },
      "execution_count": null,
      "outputs": []
    },
    {
      "cell_type": "markdown",
      "source": [
        "# Download trained model and results"
      ],
      "metadata": {
        "id": "LrVYN9Y58z55"
      }
    },
    {
      "cell_type": "code",
      "execution_count": null,
      "metadata": {
        "id": "w5UZrqYC6BTO",
        "colab": {
          "base_uri": "https://localhost:8080/",
          "height": 34
        },
        "outputId": "6d5c9fee-765d-458c-a6d9-97ca7884befa"
      },
      "outputs": [
        {
          "output_type": "display_data",
          "data": {
            "text/plain": [
              "<IPython.core.display.Javascript object>"
            ],
            "application/javascript": [
              "\n",
              "    async function download(id, filename, size) {\n",
              "      if (!google.colab.kernel.accessAllowed) {\n",
              "        return;\n",
              "      }\n",
              "      const div = document.createElement('div');\n",
              "      const label = document.createElement('label');\n",
              "      label.textContent = `Downloading \"${filename}\": `;\n",
              "      div.appendChild(label);\n",
              "      const progress = document.createElement('progress');\n",
              "      progress.max = size;\n",
              "      div.appendChild(progress);\n",
              "      document.body.appendChild(div);\n",
              "\n",
              "      const buffers = [];\n",
              "      let downloaded = 0;\n",
              "\n",
              "      const channel = await google.colab.kernel.comms.open(id);\n",
              "      // Send a message to notify the kernel that we're ready.\n",
              "      channel.send({})\n",
              "\n",
              "      for await (const message of channel.messages) {\n",
              "        // Send a message to notify the kernel that we're ready.\n",
              "        channel.send({})\n",
              "        if (message.buffers) {\n",
              "          for (const buffer of message.buffers) {\n",
              "            buffers.push(buffer);\n",
              "            downloaded += buffer.byteLength;\n",
              "            progress.value = downloaded;\n",
              "          }\n",
              "        }\n",
              "      }\n",
              "      const blob = new Blob(buffers, {type: 'application/binary'});\n",
              "      const a = document.createElement('a');\n",
              "      a.href = window.URL.createObjectURL(blob);\n",
              "      a.download = filename;\n",
              "      div.appendChild(a);\n",
              "      a.click();\n",
              "      div.remove();\n",
              "    }\n",
              "  "
            ]
          },
          "metadata": {}
        },
        {
          "output_type": "display_data",
          "data": {
            "text/plain": [
              "<IPython.core.display.Javascript object>"
            ],
            "application/javascript": [
              "download(\"download_c918dc9c-99b2-471c-98d1-5c8a689cf43b\", \"runs.zip\", 541293863)"
            ]
          },
          "metadata": {}
        }
      ],
      "source": [
        "import shutil\n",
        "import os\n",
        "\n",
        "# # Ruta de la carpeta que deseas descargar en Google Colab\n",
        "ruta_local = '/content/runs'\n",
        "\n",
        "# # Ruta donde deseas guardar el archivo ZIP en Google Colab\n",
        "archivo_zip = '/content/runs.zip'\n",
        "\n",
        "# # Crear un archivo ZIP de la carpeta\n",
        "shutil.make_archive('/content/runs', 'zip', ruta_local)\n",
        "\n",
        "# # Descargar el archivo ZIP\n",
        "from google.colab import files\n",
        "files.download(archivo_zip)\n"
      ]
    }
  ],
  "metadata": {
    "accelerator": "GPU",
    "colab": {
      "gpuType": "T4",
      "machine_shape": "hm",
      "provenance": [],
      "include_colab_link": true
    },
    "kernelspec": {
      "display_name": "Python 3",
      "name": "python3"
    },
    "language_info": {
      "name": "python"
    }
  },
  "nbformat": 4,
  "nbformat_minor": 0
}